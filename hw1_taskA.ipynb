{
 "cells": [
  {
   "cell_type": "code",
   "execution_count": 1,
   "id": "397b7ab3",
   "metadata": {},
   "outputs": [],
   "source": [
    "import os\n",
    "import gc\n",
    "import cv2\n",
    "import math\n",
    "import copy\n",
    "import time\n",
    "import random\n",
    "\n",
    "# For data manipulation\n",
    "import numpy as np\n",
    "import pandas as pd\n",
    "\n",
    "# Pytorch Imports\n",
    "import torch\n",
    "import torch.nn as nn\n",
    "import torch.optim as optim\n",
    "import torch.nn.functional as F\n",
    "from torch.optim import lr_scheduler\n",
    "from torch.utils.data import Dataset, DataLoader\n",
    "from torch.cuda import amp\n",
    "\n",
    "from torch.cuda.amp import autocast\n",
    "from ptflops import get_model_complexity_info\n",
    "\n",
    "# Albumentations for augmentations\n",
    "import albumentations as A\n",
    "from albumentations.pytorch import ToTensorV2\n",
    "\n",
    "\n",
    "from sklearn.metrics import f1_score,roc_auc_score,precision_score,recall_score\n",
    "from transformers import get_cosine_schedule_with_warmup\n",
    "\n",
    "import timm\n",
    "\n",
    "\n",
    "# Utils\n",
    "import joblib\n",
    "from tqdm.notebook import tqdm\n",
    "from collections import defaultdict\n",
    "\n",
    "import warnings\n",
    "warnings.filterwarnings(\"ignore\")"
   ]
  },
  {
   "cell_type": "code",
   "execution_count": 2,
   "id": "ea3638aa",
   "metadata": {},
   "outputs": [],
   "source": [
    "data_dir='/home/fateplsf/hw/multi_class/hw1/images'\n",
    "hw_dir=\"/home/fateplsf/hw/multi_class/hw1\"\n",
    "\n",
    "os.makedirs(hw_dir+\"/model\",exist_ok=True)"
   ]
  },
  {
   "cell_type": "code",
   "execution_count": 3,
   "id": "69ec3aa1",
   "metadata": {},
   "outputs": [],
   "source": [
    "CONFIG = {\n",
    "    \"n_accumulate\": 1,\n",
    "    \"device\": torch.device(\"cuda:0\" if torch.cuda.is_available() else \"cpu\"),\n",
    "}"
   ]
  },
  {
   "cell_type": "code",
   "execution_count": 4,
   "id": "06e9d32c",
   "metadata": {},
   "outputs": [],
   "source": [
    "def set_seed(seed=42):\n",
    "    '''Sets the seed of the entire notebook so results are the same every time we run.\n",
    "    This is for REPRODUCIBILITY.'''\n",
    "    np.random.seed(seed)\n",
    "    torch.manual_seed(seed)\n",
    "    torch.cuda.manual_seed(seed)\n",
    "    # When running on the CuDNN backend, two further options must be set\n",
    "    torch.backends.cudnn.deterministic = False\n",
    "    torch.backends.cudnn.benchmark = True\n",
    "    # Set a fixed value for the hash seed\n",
    "    os.environ['PYTHONHASHSEED'] = str(seed)\n",
    "    \n",
    "set_seed()"
   ]
  },
  {
   "cell_type": "code",
   "execution_count": 5,
   "id": "588ce50c",
   "metadata": {},
   "outputs": [],
   "source": [
    "train_df = pd.read_csv(f'{data_dir}/train.txt', delim_whitespace=True,header=None,names=['path', 'label']) \n",
    "valid_df = pd.read_csv(f'{data_dir}/val.txt', delim_whitespace=True,header=None,names=['path', 'label']) \n",
    "test_df = pd.read_csv(f'{data_dir}/test.txt', delim_whitespace=True,header=None,names=['path', 'label']) "
   ]
  },
  {
   "cell_type": "code",
   "execution_count": 6,
   "id": "0b9eea70",
   "metadata": {},
   "outputs": [
    {
     "name": "stdout",
     "output_type": "stream",
     "text": [
      "[ 0  1  2  3  4  5  6  7  8  9 10 11 12 13 14 15 16 17 18 19 20 21 22 23\n",
      " 24 25 26 27 28 29 30 31 32 33 34 35 36 37 38 39 40 41 42 43 44 45 46 47\n",
      " 48 49]\n",
      "50\n"
     ]
    }
   ],
   "source": [
    "print(train_df[\"label\"].unique())\n",
    "print(train_df[\"label\"].nunique())"
   ]
  },
  {
   "cell_type": "code",
   "execution_count": 7,
   "id": "83a9d920",
   "metadata": {},
   "outputs": [
    {
     "name": "stdout",
     "output_type": "stream",
     "text": [
      "[ 0  1  2  3  4  5  6  7  8  9 10 11 12 13 14 15 16 17 18 19 20 21 22 23\n",
      " 24 25 26 27 28 29 30 31 32 33 34 35 36 37 38 39 40 41 42 43 44 45 46 47\n",
      " 48 49]\n",
      "50\n"
     ]
    }
   ],
   "source": [
    "print(valid_df[\"label\"].unique())\n",
    "print(valid_df[\"label\"].nunique())"
   ]
  },
  {
   "cell_type": "code",
   "execution_count": null,
   "id": "2b64bc71",
   "metadata": {},
   "outputs": [],
   "source": []
  },
  {
   "cell_type": "code",
   "execution_count": 8,
   "id": "b2330814",
   "metadata": {},
   "outputs": [],
   "source": [
    "class ImageDataset(Dataset):\n",
    "    def __init__(self, df, augment=None):\n",
    "        self.length = len(df)\n",
    "        self.df = df\n",
    "        self.augment = augment\n",
    "\n",
    "    def __len__(self):\n",
    "        return self.length\n",
    "    def __getitem__(self,index):\n",
    "        d = self.df.iloc[index]\n",
    "        img_path=img_path=data_dir+\"/\"+d[\"path\"]\n",
    "        img=cv2.imread(img_path)\n",
    "        img = img.astype(np.float32)/255\n",
    "        label=d[\"label\"]\n",
    "        \n",
    "        if self.augment is not None: \n",
    "            img = self.augment(image=img)[\"image\"]\n",
    "            \n",
    "\n",
    "\n",
    "        return {\n",
    "            'image': img,\n",
    "            'label': torch.tensor(label, dtype=torch.long)\n",
    "            \n",
    "        }"
   ]
  },
  {
   "cell_type": "code",
   "execution_count": 9,
   "id": "0923ca41",
   "metadata": {},
   "outputs": [],
   "source": [
    "data_transforms = {\n",
    "    \"train\": A.Compose([\n",
    "        A.Resize(384, 384),\n",
    "        A.HorizontalFlip(p=0.5),\n",
    "        A.VerticalFlip(p=0.5),\n",
    "        \n",
    "        A.ShiftScaleRotate(shift_limit=0.1, \n",
    "                           scale_limit=0.1, \n",
    "                           rotate_limit=30, \n",
    "                           \n",
    "                           p=0.5),\n",
    "        A.HueSaturationValue(\n",
    "                hue_shift_limit=0.1, \n",
    "                sat_shift_limit=0.1, \n",
    "                val_shift_limit=0.1, \n",
    "                p=0.5 \n",
    "            ),\n",
    "        A.RandomBrightnessContrast(\n",
    "                brightness_limit=(-0.1,0.1), \n",
    "                contrast_limit=(-0.1, 0.1),  \n",
    "                p=0.5 \n",
    "            ),\n",
    "        \n",
    "#         A.Normalize(),\n",
    "        ToTensorV2()], p=1.),\n",
    "    \n",
    "    \"valid\": A.Compose([\n",
    "        A.Resize(384, 384),\n",
    "\n",
    "#         A.Normalize(),\n",
    "        ToTensorV2()], p=1.)\n",
    "}"
   ]
  },
  {
   "cell_type": "code",
   "execution_count": 10,
   "id": "9ef790f7",
   "metadata": {},
   "outputs": [],
   "source": [
    "class ImageDataset_c(Dataset):\n",
    "    def __init__(self, df, augment=None, channel_select=None):\n",
    "        \"\"\"\n",
    "        channel_select: list of int, e.g. [0], [1,2], [0,1,2]\n",
    "                        None 表示用全部通道\n",
    "                        0 = Blue, 1 = Green, 2 = Red (cv2 是 BGR)\n",
    "        \"\"\"\n",
    "        self.length = len(df)\n",
    "        self.df = df\n",
    "        self.augment = augment\n",
    "        if channel_select is None:\n",
    "            self.channel_select = [0, 1, 2]  # 默認全通道\n",
    "        else:\n",
    "            self.channel_select = channel_select\n",
    "\n",
    "    def __len__(self):\n",
    "        return self.length\n",
    "\n",
    "    def __getitem__(self, index):\n",
    "        d = self.df.iloc[index]\n",
    "        img_path = data_dir + \"/\" + d[\"path\"]\n",
    "        img = cv2.imread(img_path)\n",
    "\n",
    "        if img is None:\n",
    "            raise FileNotFoundError(f\"Image not found at: {img_path}\")\n",
    "\n",
    "        img = img.astype(np.float32) / 255.0\n",
    "        \n",
    "\n",
    "        # 選通道並保持 shape 為 (H, W, C_selected)\n",
    "        img = img[:, :, self.channel_select]\n",
    "\n",
    "        if self.augment is not None:\n",
    "            img = self.augment(image=img)[\"image\"]\n",
    "\n",
    "        return {\n",
    "            'image': img,\n",
    "            'label': torch.tensor(d[\"label\"], dtype=torch.long)\n",
    "        }\n"
   ]
  },
  {
   "cell_type": "code",
   "execution_count": 11,
   "id": "e0171681",
   "metadata": {},
   "outputs": [
    {
     "name": "stdout",
     "output_type": "stream",
     "text": [
      "torch.Size([3, 384, 384])\n",
      "tensor(0)\n"
     ]
    }
   ],
   "source": [
    "print(next(iter(ImageDataset(train_df,data_transforms[\"train\"])))[\"image\"].shape)\n",
    "print(next(iter(ImageDataset(train_df,data_transforms[\"train\"])))[\"label\"])"
   ]
  },
  {
   "cell_type": "code",
   "execution_count": 12,
   "id": "e39a8b86",
   "metadata": {},
   "outputs": [],
   "source": [
    "import torch\n",
    "import torch.nn as nn\n",
    "import torch.nn.functional as F\n",
    "import torch\n",
    "import torch.nn as nn\n",
    "import torch.nn.functional as F\n",
    "\n",
    "class ChannelAdaptiveBlock(nn.Module):\n",
    "    \"\"\"\n",
    "    將任意輸入通道數（如 1, 2, 3...）標準化為固定輸出通道（通常為 3），\n",
    "    並透過 Channel Attention 強化重要通道。\n",
    "    \"\"\"\n",
    "    def __init__(self, max_in_channels=3, out_channels=3, reduction=4):\n",
    "        super().__init__()\n",
    "        self.max_in_channels = max_in_channels\n",
    "        self.out_channels = out_channels\n",
    "\n",
    "        # 防止 Linear 輸出為 0\n",
    "        hidden_dim = max(1, max_in_channels // reduction)\n",
    "\n",
    "        # 全域平均池 + 兩層 MLP 組成 Channel Attention\n",
    "        self.global_pool = nn.AdaptiveAvgPool2d(1)\n",
    "        self.channel_attn = nn.Sequential(\n",
    "            nn.Flatten(),  # [B, C, 1, 1] → [B, C]\n",
    "            nn.Linear(max_in_channels, hidden_dim),\n",
    "            nn.ReLU(inplace=True),\n",
    "            nn.Linear(hidden_dim, max_in_channels),\n",
    "            nn.Sigmoid()  # 輸出每個通道的重要性 [0,1]\n",
    "        )\n",
    "\n",
    "        # 將 max_in_channels → out_channels（通常 = 3）\n",
    "        self.proj = nn.Conv2d(max_in_channels, out_channels, kernel_size=1)\n",
    "\n",
    "    def forward(self, x):\n",
    "        B, C, H, W = x.shape\n",
    "\n",
    "        # 如果輸入通道數少於最大通道數，進行 zero-padding\n",
    "        if C < self.max_in_channels:\n",
    "            pad = torch.zeros((B, self.max_in_channels - C, H, W),\n",
    "                              device=x.device, dtype=x.dtype)\n",
    "            x = torch.cat([x, pad], dim=1)\n",
    "\n",
    "        # 通道注意力：根據平均特徵強度加權每個通道\n",
    "        attn = self.global_pool(x)  # [B, C, 1, 1]\n",
    "        attn = self.channel_attn(attn)  # [B, C]\n",
    "        attn = attn.view(B, self.max_in_channels, 1, 1)  # 對應形狀\n",
    "\n",
    "        # 加權後再投影到固定通道數\n",
    "        x = x * attn  # Channel-wise 重量\n",
    "        x = self.proj(x)  # [B, out_channels, H, W]\n",
    "\n",
    "        return x\n"
   ]
  },
  {
   "cell_type": "code",
   "execution_count": 13,
   "id": "d4ea78a2",
   "metadata": {},
   "outputs": [],
   "source": [
    "class ChannelAdaptiveResNet(nn.Module):\n",
    "    def __init__(self, base_model='resnet18', max_in_channels=3, out_classes=50):\n",
    "        super().__init__()\n",
    "        self.channel_adapter = ChannelAdaptiveBlock(max_in_channels=max_in_channels, out_channels=3)\n",
    "        self.backbone = timm.create_model(base_model, pretrained=False, in_chans=3, num_classes=out_classes)\n",
    "\n",
    "    def forward(self, x):\n",
    "        x = self.channel_adapter(x)  # Normalize to fixed 3-channel input\n",
    "        x = self.backbone(x)\n",
    "        return x"
   ]
  },
  {
   "cell_type": "code",
   "execution_count": 14,
   "id": "24deb322",
   "metadata": {},
   "outputs": [],
   "source": [
    "model = timm.create_model('resnet18', pretrained=False,in_chans=3, num_classes=50)\n",
    "model1 = ChannelAdaptiveResNet(max_in_channels=6, out_classes=50)\n"
   ]
  },
  {
   "cell_type": "code",
   "execution_count": 15,
   "id": "d1a5d534",
   "metadata": {},
   "outputs": [
    {
     "name": "stdout",
     "output_type": "stream",
     "text": [
      "FLOPs: 5.36 GMac, Parameters: 11.2 M\n"
     ]
    }
   ],
   "source": [
    "macs, params = get_model_complexity_info(model, (3, 384, 384), as_strings=True, print_per_layer_stat=False)\n",
    "print(f\"FLOPs: {macs}, Parameters: {params}\")"
   ]
  },
  {
   "cell_type": "code",
   "execution_count": 16,
   "id": "18fc7a03",
   "metadata": {},
   "outputs": [
    {
     "name": "stdout",
     "output_type": "stream",
     "text": [
      "FLOPs: 5.37 GMac, Parameters: 11.2 M\n"
     ]
    }
   ],
   "source": [
    "macs, params = get_model_complexity_info(model1, (3, 384, 384), as_strings=True, print_per_layer_stat=False)\n",
    "print(f\"FLOPs: {macs}, Parameters: {params}\")"
   ]
  },
  {
   "cell_type": "code",
   "execution_count": null,
   "id": "2aec2fd4",
   "metadata": {},
   "outputs": [],
   "source": []
  },
  {
   "cell_type": "code",
   "execution_count": 17,
   "id": "29d6631a",
   "metadata": {},
   "outputs": [],
   "source": [
    "loss = nn.CrossEntropyLoss()\n",
    "def criterion(outputs, labels):\n",
    "    return loss(outputs, labels)"
   ]
  },
  {
   "cell_type": "code",
   "execution_count": 18,
   "id": "2f7567e2",
   "metadata": {},
   "outputs": [],
   "source": [
    "def train_one_epoch(model, optimizer, scheduler, dataloader, device, epoch):\n",
    "    model.train()\n",
    "    \n",
    "    dataset_size = 0\n",
    "    running_loss = 0.0\n",
    "    \n",
    "    bar = tqdm(enumerate(dataloader), total=len(dataloader))\n",
    "    for step, data in bar:\n",
    "        images = data['image'].to(device, dtype=torch.float)\n",
    "        labels = data['label'].to(device, dtype=torch.long)\n",
    "\n",
    "        batch_size = images.size(0)\n",
    "        \n",
    "        with amp.autocast(enabled = True):\n",
    "            outputs = model(images)\n",
    "            \n",
    "            loss = criterion(outputs, labels)\n",
    "            \n",
    "            loss = loss / CONFIG['n_accumulate']\n",
    "            \n",
    "        scaler.scale(loss).backward()\n",
    "        \n",
    "        if (step + 1) % CONFIG['n_accumulate'] == 0:\n",
    "\n",
    "            scaler.unscale_(optimizer)\n",
    "            scaler.step(optimizer)\n",
    "            scaler.update()\n",
    "            optimizer.zero_grad()\n",
    "\n",
    "\n",
    "\n",
    "            if scheduler is not None:\n",
    "                scheduler.step()\n",
    "        \n",
    "        \n",
    "                \n",
    "        running_loss += (loss.item() * batch_size)\n",
    "        dataset_size += batch_size\n",
    "        \n",
    "        epoch_loss = running_loss / dataset_size\n",
    "        \n",
    "        bar.set_postfix(Epoch=epoch, Train_Loss=epoch_loss,\n",
    "                        LR=optimizer.param_groups[0]['lr'])\n",
    "    gc.collect()\n",
    "    \n",
    "    return epoch_loss"
   ]
  },
  {
   "cell_type": "code",
   "execution_count": 19,
   "id": "3a86e1d5",
   "metadata": {},
   "outputs": [],
   "source": [
    "@torch.inference_mode()\n",
    "def valid_one_epoch(model, dataloader, device, epoch):\n",
    "    model.eval()\n",
    "    \n",
    "    dataset_size = 0\n",
    "    running_loss = 0.0\n",
    "    \n",
    "    bar = tqdm(enumerate(dataloader), total=len(dataloader))\n",
    "    true_y = []\n",
    "    pred_y = []\n",
    "    pred_y_class=[]\n",
    "    \n",
    "    for step, data in bar:\n",
    "        \n",
    "        images = data['image'].to(device, dtype=torch.float)\n",
    "        labels = data['label'].to(device, dtype=torch.long)\n",
    "        \n",
    "        batch_size = images.size(0)\n",
    "\n",
    "        outputs = model(images)\n",
    "        loss = criterion(outputs, labels)\n",
    "\n",
    "        \n",
    "        true_y.append(labels.cpu().numpy())\n",
    "        \n",
    "        tmp_pred=torch.nn.Softmax(dim=1)(outputs)\n",
    "        pred_y.append(tmp_pred.cpu().numpy())\n",
    "   \n",
    "        \n",
    "        running_loss += (loss.item() * batch_size)\n",
    "        dataset_size += batch_size\n",
    "        \n",
    "        epoch_loss = running_loss / dataset_size\n",
    "        \n",
    "        bar.set_postfix(Epoch=epoch, Valid_Loss=epoch_loss,\n",
    "                        LR=optimizer.param_groups[0]['lr'])   \n",
    "        \n",
    "    \n",
    "\n",
    "    true_y=np.concatenate(true_y)\n",
    "    pred_y=np.concatenate(pred_y)\n",
    " \n",
    "    \n",
    "    gc.collect()\n",
    "    \n",
    "\n",
    "    auc = roc_auc_score(true_y,pred_y,multi_class='ovr', average='macro')\n",
    " \n",
    "\n",
    "\n",
    "    return epoch_loss,auc,true_y,pred_y"
   ]
  },
  {
   "cell_type": "code",
   "execution_count": 20,
   "id": "81970a2d",
   "metadata": {},
   "outputs": [],
   "source": [
    "@torch.inference_mode()\n",
    "def get_score(model, dataloader, device):\n",
    "    model.eval()\n",
    "    \n",
    "    dataset_size = 0\n",
    "    running_loss = 0.0\n",
    "    \n",
    "    bar = tqdm(enumerate(dataloader), total=len(dataloader), disable=True)\n",
    "    true_y = []\n",
    "    pred_y = []\n",
    "    pred_y_class=[]\n",
    "    \n",
    "    for step, data in bar:\n",
    "        \n",
    "        images = data['image'].to(device, dtype=torch.float)\n",
    "        labels = data['label'].to(device, dtype=torch.long)\n",
    "        \n",
    "        batch_size = images.size(0)\n",
    "\n",
    "        outputs = model(images)\n",
    "        loss = criterion(outputs, labels)\n",
    "\n",
    "        \n",
    "        true_y.append(labels.cpu().numpy())\n",
    "        \n",
    "        tmp_pred=torch.nn.Softmax(dim=1)(outputs)\n",
    "        pred_y.append(tmp_pred.cpu().numpy())\n",
    "   \n",
    "        \n",
    "        running_loss += (loss.item() * batch_size)\n",
    "        dataset_size += batch_size\n",
    "        \n",
    "        epoch_loss = running_loss / dataset_size\n",
    "        \n",
    "#         bar.set_postfix(Epoch=epoch, Valid_Loss=epoch_loss,\n",
    "#                         LR=optimizer.param_groups[0]['lr'])   \n",
    "        \n",
    "    \n",
    "\n",
    "    true_y=np.concatenate(true_y)\n",
    "    pred_y=np.concatenate(pred_y)\n",
    " \n",
    "    \n",
    "    gc.collect()\n",
    "    \n",
    "\n",
    "    auc = roc_auc_score(true_y,pred_y,multi_class='ovr', average='macro')\n",
    "    pred_labels = np.argmax(pred_y, axis=1)\n",
    "    f1 = f1_score(true_y, pred_labels, average='macro')\n",
    "    precision = precision_score(true_y, pred_labels, average='macro')\n",
    "    recall = recall_score(true_y, pred_labels, average='macro')\n",
    "\n",
    "\n",
    "    return auc,f1,precision,recall"
   ]
  },
  {
   "cell_type": "code",
   "execution_count": null,
   "id": "458fe1f7",
   "metadata": {},
   "outputs": [],
   "source": []
  },
  {
   "cell_type": "code",
   "execution_count": 21,
   "id": "462cfce9",
   "metadata": {},
   "outputs": [],
   "source": [
    "def run_training(model, optimizer, scheduler,train_loader,valid_loader,device,num_epochs):\n",
    "\n",
    "    if torch.cuda.is_available():\n",
    "        print(\"[INFO] Using GPU: {}\\n\".format(torch.cuda.get_device_name()))\n",
    "    \n",
    "#     model=model.cuda()\n",
    "    best_true_y,best_pred_y = [] ,[]\n",
    "    start = time.time()\n",
    "    \n",
    "#     best_model_wts = copy.deepcopy(model.state_dict())\n",
    "    best_epoch_auc = 0\n",
    "\n",
    "    history = defaultdict(list)\n",
    "    gc.collect()\n",
    "    for epoch in range(1, num_epochs + 1): \n",
    "        gc.collect()\n",
    "        train_epoch_loss = train_one_epoch(model, optimizer, scheduler, \n",
    "                                           train_loader,device,epoch=epoch)\n",
    "        \n",
    "        val_epoch_loss,auc,true_y,pred_y= valid_one_epoch(model, valid_loader,device,epoch=epoch)\n",
    "#         print(\"Epoch:\",epoch)\n",
    "        print(val_epoch_loss,auc)\n",
    "    \n",
    "        history['Train Loss'].append(train_epoch_loss)\n",
    "        history['Valid Loss'].append(val_epoch_loss)\n",
    "        history['Valid Auc'].append(auc)\n",
    "\n",
    "        if (auc >= best_epoch_auc) : #and (epoch >3):\n",
    "            print(f\"Validation Auc Improved ({best_epoch_auc} ---> {auc})\")\n",
    "            best_epoch_auc = auc\n",
    "            \n",
    "            PATH = hw_dir+'/model/'+f\"job_{job}_model\"+\".bin\"\n",
    "            torch.save(model.state_dict(), PATH)\n",
    "            best_true_y,best_pred_y = true_y,pred_y\n",
    "            \n",
    "\n",
    "            \n",
    "            \n",
    "\n",
    "    end = time.time()\n",
    "    time_elapsed = end - start\n",
    "    print('Training complete in {:.0f}h {:.0f}m {:.0f}s'.format(\n",
    "        time_elapsed // 3600, (time_elapsed % 3600) // 60, (time_elapsed % 3600) % 60))\n",
    "\n",
    "    \n",
    "\n",
    "    return history,best_true_y,best_pred_y\n",
    "    #return model, history"
   ]
  },
  {
   "cell_type": "code",
   "execution_count": null,
   "id": "b4ee3ff7",
   "metadata": {},
   "outputs": [],
   "source": []
  },
  {
   "cell_type": "markdown",
   "id": "9e285f1f",
   "metadata": {},
   "source": [
    "# ResNet"
   ]
  },
  {
   "cell_type": "code",
   "execution_count": 22,
   "id": "e6bac401",
   "metadata": {},
   "outputs": [],
   "source": [
    "job=1\n",
    "is_amp = True\n",
    "scaler = amp.GradScaler(enabled = is_amp)\n",
    "\n",
    "model = model.to(CONFIG['device'])"
   ]
  },
  {
   "cell_type": "code",
   "execution_count": 23,
   "id": "83458828",
   "metadata": {},
   "outputs": [],
   "source": [
    "train_dataset = ImageDataset(train_df,augment=data_transforms[\"train\"])\n",
    "valid_dataset = ImageDataset(valid_df,augment=data_transforms[\"valid\"])\n",
    "train_loader = DataLoader(train_dataset, batch_size=128, \n",
    "                          num_workers=8, shuffle=True, pin_memory=True, drop_last=True)\n",
    "valid_loader = DataLoader(valid_dataset, batch_size=128, \n",
    "                          num_workers=8, shuffle=False, pin_memory=True)"
   ]
  },
  {
   "cell_type": "code",
   "execution_count": 24,
   "id": "c74796ad",
   "metadata": {},
   "outputs": [
    {
     "name": "stdout",
     "output_type": "stream",
     "text": [
      "[INFO] Using GPU: NVIDIA GeForce RTX 3090\n",
      "\n"
     ]
    },
    {
     "data": {
      "application/vnd.jupyter.widget-view+json": {
       "model_id": "7a8d153008554a7196223b214b46654e",
       "version_major": 2,
       "version_minor": 0
      },
      "text/plain": [
       "  0%|          | 0/494 [00:00<?, ?it/s]"
      ]
     },
     "metadata": {},
     "output_type": "display_data"
    },
    {
     "data": {
      "application/vnd.jupyter.widget-view+json": {
       "model_id": "a61aa4c0dd444cbf96115745f5689d35",
       "version_major": 2,
       "version_minor": 0
      },
      "text/plain": [
       "  0%|          | 0/4 [00:00<?, ?it/s]"
      ]
     },
     "metadata": {},
     "output_type": "display_data"
    },
    {
     "name": "stdout",
     "output_type": "stream",
     "text": [
      "3.73364487224155 0.7356311413454272\n",
      "Validation Auc Improved (0 ---> 0.7356311413454272)\n"
     ]
    },
    {
     "data": {
      "application/vnd.jupyter.widget-view+json": {
       "model_id": "34f204d48e864d219b63c83207f919ec",
       "version_major": 2,
       "version_minor": 0
      },
      "text/plain": [
       "  0%|          | 0/494 [00:00<?, ?it/s]"
      ]
     },
     "metadata": {},
     "output_type": "display_data"
    },
    {
     "data": {
      "application/vnd.jupyter.widget-view+json": {
       "model_id": "40c4a7aa8a50459db23f3316b291df0b",
       "version_major": 2,
       "version_minor": 0
      },
      "text/plain": [
       "  0%|          | 0/4 [00:00<?, ?it/s]"
      ]
     },
     "metadata": {},
     "output_type": "display_data"
    },
    {
     "name": "stdout",
     "output_type": "stream",
     "text": [
      "3.388416595458984 0.8279969765684051\n",
      "Validation Auc Improved (0.7356311413454272 ---> 0.8279969765684051)\n"
     ]
    },
    {
     "data": {
      "application/vnd.jupyter.widget-view+json": {
       "model_id": "8b27ff851da5453399e83f1b6dc0e57b",
       "version_major": 2,
       "version_minor": 0
      },
      "text/plain": [
       "  0%|          | 0/494 [00:00<?, ?it/s]"
      ]
     },
     "metadata": {},
     "output_type": "display_data"
    },
    {
     "data": {
      "application/vnd.jupyter.widget-view+json": {
       "model_id": "53eda73d2df14d73830d5980ab285d09",
       "version_major": 2,
       "version_minor": 0
      },
      "text/plain": [
       "  0%|          | 0/4 [00:00<?, ?it/s]"
      ]
     },
     "metadata": {},
     "output_type": "display_data"
    },
    {
     "name": "stdout",
     "output_type": "stream",
     "text": [
      "2.7596916929880777 0.895721844293273\n",
      "Validation Auc Improved (0.8279969765684051 ---> 0.895721844293273)\n"
     ]
    },
    {
     "data": {
      "application/vnd.jupyter.widget-view+json": {
       "model_id": "47163456ecef4d4f82cbc74404937f37",
       "version_major": 2,
       "version_minor": 0
      },
      "text/plain": [
       "  0%|          | 0/494 [00:00<?, ?it/s]"
      ]
     },
     "metadata": {},
     "output_type": "display_data"
    },
    {
     "data": {
      "application/vnd.jupyter.widget-view+json": {
       "model_id": "0fc824fc54e44803a0750dbd6f110f6e",
       "version_major": 2,
       "version_minor": 0
      },
      "text/plain": [
       "  0%|          | 0/4 [00:00<?, ?it/s]"
      ]
     },
     "metadata": {},
     "output_type": "display_data"
    },
    {
     "name": "stdout",
     "output_type": "stream",
     "text": [
      "2.2165877066718207 0.9334794658604182\n",
      "Validation Auc Improved (0.895721844293273 ---> 0.9334794658604182)\n"
     ]
    },
    {
     "data": {
      "application/vnd.jupyter.widget-view+json": {
       "model_id": "9e70e99c8767482fb3b5ce0e53c54f8d",
       "version_major": 2,
       "version_minor": 0
      },
      "text/plain": [
       "  0%|          | 0/494 [00:00<?, ?it/s]"
      ]
     },
     "metadata": {},
     "output_type": "display_data"
    },
    {
     "data": {
      "application/vnd.jupyter.widget-view+json": {
       "model_id": "65e698a1f1934c37a33a613066c96721",
       "version_major": 2,
       "version_minor": 0
      },
      "text/plain": [
       "  0%|          | 0/4 [00:00<?, ?it/s]"
      ]
     },
     "metadata": {},
     "output_type": "display_data"
    },
    {
     "name": "stdout",
     "output_type": "stream",
     "text": [
      "1.9887660980224608 0.9472008062484254\n",
      "Validation Auc Improved (0.9334794658604182 ---> 0.9472008062484254)\n"
     ]
    },
    {
     "data": {
      "application/vnd.jupyter.widget-view+json": {
       "model_id": "a8163a696851459a8619da24fd0ac07f",
       "version_major": 2,
       "version_minor": 0
      },
      "text/plain": [
       "  0%|          | 0/494 [00:00<?, ?it/s]"
      ]
     },
     "metadata": {},
     "output_type": "display_data"
    },
    {
     "data": {
      "application/vnd.jupyter.widget-view+json": {
       "model_id": "0cb6a7fe3df746fca2a0bb7ca8a3213a",
       "version_major": 2,
       "version_minor": 0
      },
      "text/plain": [
       "  0%|          | 0/4 [00:00<?, ?it/s]"
      ]
     },
     "metadata": {},
     "output_type": "display_data"
    },
    {
     "name": "stdout",
     "output_type": "stream",
     "text": [
      "1.7822319724824693 0.958745275888133\n",
      "Validation Auc Improved (0.9472008062484254 ---> 0.958745275888133)\n"
     ]
    },
    {
     "data": {
      "application/vnd.jupyter.widget-view+json": {
       "model_id": "1dc5cd4be2c9447d92f8f82b79282013",
       "version_major": 2,
       "version_minor": 0
      },
      "text/plain": [
       "  0%|          | 0/494 [00:00<?, ?it/s]"
      ]
     },
     "metadata": {},
     "output_type": "display_data"
    },
    {
     "data": {
      "application/vnd.jupyter.widget-view+json": {
       "model_id": "4a070e9e97bc4999851f9171c755c5e5",
       "version_major": 2,
       "version_minor": 0
      },
      "text/plain": [
       "  0%|          | 0/4 [00:00<?, ?it/s]"
      ]
     },
     "metadata": {},
     "output_type": "display_data"
    },
    {
     "name": "stdout",
     "output_type": "stream",
     "text": [
      "1.769543577035268 0.9584126984126984\n"
     ]
    },
    {
     "data": {
      "application/vnd.jupyter.widget-view+json": {
       "model_id": "f590d116ecd54869a3e7061726df49a4",
       "version_major": 2,
       "version_minor": 0
      },
      "text/plain": [
       "  0%|          | 0/494 [00:00<?, ?it/s]"
      ]
     },
     "metadata": {},
     "output_type": "display_data"
    },
    {
     "data": {
      "application/vnd.jupyter.widget-view+json": {
       "model_id": "ecbd43df5e054f31b994b6dadcd8a75a",
       "version_major": 2,
       "version_minor": 0
      },
      "text/plain": [
       "  0%|          | 0/4 [00:00<?, ?it/s]"
      ]
     },
     "metadata": {},
     "output_type": "display_data"
    },
    {
     "name": "stdout",
     "output_type": "stream",
     "text": [
      "1.6325892996788025 0.9645099521289997\n",
      "Validation Auc Improved (0.958745275888133 ---> 0.9645099521289997)\n"
     ]
    },
    {
     "data": {
      "application/vnd.jupyter.widget-view+json": {
       "model_id": "3e741b5b9ae445d88fda140a13f2fe72",
       "version_major": 2,
       "version_minor": 0
      },
      "text/plain": [
       "  0%|          | 0/494 [00:00<?, ?it/s]"
      ]
     },
     "metadata": {},
     "output_type": "display_data"
    },
    {
     "data": {
      "application/vnd.jupyter.widget-view+json": {
       "model_id": "a8cbed30e2fe4562b2fc631a3b96768a",
       "version_major": 2,
       "version_minor": 0
      },
      "text/plain": [
       "  0%|          | 0/4 [00:00<?, ?it/s]"
      ]
     },
     "metadata": {},
     "output_type": "display_data"
    },
    {
     "name": "stdout",
     "output_type": "stream",
     "text": [
      "1.6835241182645162 0.962605190224238\n"
     ]
    },
    {
     "data": {
      "application/vnd.jupyter.widget-view+json": {
       "model_id": "bab9dc7865ca474db5e653831d9ad2bb",
       "version_major": 2,
       "version_minor": 0
      },
      "text/plain": [
       "  0%|          | 0/494 [00:00<?, ?it/s]"
      ]
     },
     "metadata": {},
     "output_type": "display_data"
    },
    {
     "data": {
      "application/vnd.jupyter.widget-view+json": {
       "model_id": "8fe4306321cc4f3d91a874a851f1036e",
       "version_major": 2,
       "version_minor": 0
      },
      "text/plain": [
       "  0%|          | 0/4 [00:00<?, ?it/s]"
      ]
     },
     "metadata": {},
     "output_type": "display_data"
    },
    {
     "name": "stdout",
     "output_type": "stream",
     "text": [
      "1.3408222119013469 0.9754144620811289\n",
      "Validation Auc Improved (0.9645099521289997 ---> 0.9754144620811289)\n"
     ]
    },
    {
     "data": {
      "application/vnd.jupyter.widget-view+json": {
       "model_id": "a95aa92677934e7c959985a75a57c117",
       "version_major": 2,
       "version_minor": 0
      },
      "text/plain": [
       "  0%|          | 0/494 [00:00<?, ?it/s]"
      ]
     },
     "metadata": {},
     "output_type": "display_data"
    },
    {
     "data": {
      "application/vnd.jupyter.widget-view+json": {
       "model_id": "1ce567306fe2434cb702f40a5e5707c1",
       "version_major": 2,
       "version_minor": 0
      },
      "text/plain": [
       "  0%|          | 0/4 [00:00<?, ?it/s]"
      ]
     },
     "metadata": {},
     "output_type": "display_data"
    },
    {
     "name": "stdout",
     "output_type": "stream",
     "text": [
      "1.356457002957662 0.9761300075585789\n",
      "Validation Auc Improved (0.9754144620811289 ---> 0.9761300075585789)\n"
     ]
    },
    {
     "data": {
      "application/vnd.jupyter.widget-view+json": {
       "model_id": "a904f0e6f89744319cbb95352f55d158",
       "version_major": 2,
       "version_minor": 0
      },
      "text/plain": [
       "  0%|          | 0/494 [00:00<?, ?it/s]"
      ]
     },
     "metadata": {},
     "output_type": "display_data"
    },
    {
     "data": {
      "application/vnd.jupyter.widget-view+json": {
       "model_id": "4145aec666154b1e8dcb4a8973064991",
       "version_major": 2,
       "version_minor": 0
      },
      "text/plain": [
       "  0%|          | 0/4 [00:00<?, ?it/s]"
      ]
     },
     "metadata": {},
     "output_type": "display_data"
    },
    {
     "name": "stdout",
     "output_type": "stream",
     "text": [
      "1.2019986679818895 0.9797984378936759\n",
      "Validation Auc Improved (0.9761300075585789 ---> 0.9797984378936759)\n"
     ]
    },
    {
     "data": {
      "application/vnd.jupyter.widget-view+json": {
       "model_id": "33c7ad29ed8e415586291b81f756c31c",
       "version_major": 2,
       "version_minor": 0
      },
      "text/plain": [
       "  0%|          | 0/494 [00:00<?, ?it/s]"
      ]
     },
     "metadata": {},
     "output_type": "display_data"
    },
    {
     "data": {
      "application/vnd.jupyter.widget-view+json": {
       "model_id": "54490367a9f64264af10c7c104c1d00b",
       "version_major": 2,
       "version_minor": 0
      },
      "text/plain": [
       "  0%|          | 0/4 [00:00<?, ?it/s]"
      ]
     },
     "metadata": {},
     "output_type": "display_data"
    },
    {
     "name": "stdout",
     "output_type": "stream",
     "text": [
      "1.1645827865600586 0.9808667170571931\n",
      "Validation Auc Improved (0.9797984378936759 ---> 0.9808667170571931)\n"
     ]
    },
    {
     "data": {
      "application/vnd.jupyter.widget-view+json": {
       "model_id": "1980c9e3c0a54032afe058dbc2ea48e5",
       "version_major": 2,
       "version_minor": 0
      },
      "text/plain": [
       "  0%|          | 0/494 [00:00<?, ?it/s]"
      ]
     },
     "metadata": {},
     "output_type": "display_data"
    },
    {
     "data": {
      "application/vnd.jupyter.widget-view+json": {
       "model_id": "44d78a67035d44e7a771575c8e05dd90",
       "version_major": 2,
       "version_minor": 0
      },
      "text/plain": [
       "  0%|          | 0/4 [00:00<?, ?it/s]"
      ]
     },
     "metadata": {},
     "output_type": "display_data"
    },
    {
     "name": "stdout",
     "output_type": "stream",
     "text": [
      "1.1129164099693298 0.9822927689594357\n",
      "Validation Auc Improved (0.9808667170571931 ---> 0.9822927689594357)\n"
     ]
    },
    {
     "data": {
      "application/vnd.jupyter.widget-view+json": {
       "model_id": "3031717b5a0c47d798e087106174fbfd",
       "version_major": 2,
       "version_minor": 0
      },
      "text/plain": [
       "  0%|          | 0/494 [00:00<?, ?it/s]"
      ]
     },
     "metadata": {},
     "output_type": "display_data"
    },
    {
     "data": {
      "application/vnd.jupyter.widget-view+json": {
       "model_id": "4a57df949e3b4652aa8dd7423a38abf9",
       "version_major": 2,
       "version_minor": 0
      },
      "text/plain": [
       "  0%|          | 0/4 [00:00<?, ?it/s]"
      ]
     },
     "metadata": {},
     "output_type": "display_data"
    },
    {
     "name": "stdout",
     "output_type": "stream",
     "text": [
      "1.116493329472012 0.9822877299067776\n"
     ]
    },
    {
     "data": {
      "application/vnd.jupyter.widget-view+json": {
       "model_id": "a39a757648964f7ea5e1330a32dffe79",
       "version_major": 2,
       "version_minor": 0
      },
      "text/plain": [
       "  0%|          | 0/494 [00:00<?, ?it/s]"
      ]
     },
     "metadata": {},
     "output_type": "display_data"
    },
    {
     "data": {
      "application/vnd.jupyter.widget-view+json": {
       "model_id": "3ba40018bfed439f8468662cb368fc4c",
       "version_major": 2,
       "version_minor": 0
      },
      "text/plain": [
       "  0%|          | 0/4 [00:00<?, ?it/s]"
      ]
     },
     "metadata": {},
     "output_type": "display_data"
    },
    {
     "name": "stdout",
     "output_type": "stream",
     "text": [
      "1.1096354375945197 0.9824640967498113\n",
      "Validation Auc Improved (0.9822927689594357 ---> 0.9824640967498113)\n",
      "Training complete in 0h 22m 13s\n"
     ]
    }
   ],
   "source": [
    "\n",
    "optimizer = optim.AdamW(model.parameters(), lr=1.5e-3)\n",
    "num_train_steps = int(len(train_loader) * 16)\n",
    "num_warmup_steps = int(num_train_steps / 10)\n",
    "scheduler = get_cosine_schedule_with_warmup(optimizer, num_warmup_steps=num_warmup_steps, num_training_steps=num_train_steps)\n",
    "\n",
    "history,true_y,pred_y= run_training(model, optimizer, scheduler,train_loader,valid_loader,device=CONFIG['device'],num_epochs=16)"
   ]
  },
  {
   "cell_type": "code",
   "execution_count": 25,
   "id": "5459f086",
   "metadata": {},
   "outputs": [
    {
     "data": {
      "text/plain": [
       "defaultdict(list,\n",
       "            {'Train Loss': [3.517613368478381,\n",
       "              2.9555108769219895,\n",
       "              2.501563476647443,\n",
       "              2.1902940830721063,\n",
       "              1.95050737225575,\n",
       "              1.753825263697126,\n",
       "              1.5863705808334505,\n",
       "              1.4476291283904783,\n",
       "              1.3253653633449725,\n",
       "              1.2140998227393578,\n",
       "              1.1257413776538632,\n",
       "              1.0478987715504913,\n",
       "              0.9845765412819047,\n",
       "              0.935653054279837,\n",
       "              0.9019161751154463,\n",
       "              0.884608553126756],\n",
       "             'Valid Loss': [3.73364487224155,\n",
       "              3.388416595458984,\n",
       "              2.7596916929880777,\n",
       "              2.2165877066718207,\n",
       "              1.9887660980224608,\n",
       "              1.7822319724824693,\n",
       "              1.769543577035268,\n",
       "              1.6325892996788025,\n",
       "              1.6835241182645162,\n",
       "              1.3408222119013469,\n",
       "              1.356457002957662,\n",
       "              1.2019986679818895,\n",
       "              1.1645827865600586,\n",
       "              1.1129164099693298,\n",
       "              1.116493329472012,\n",
       "              1.1096354375945197],\n",
       "             'Valid Auc': [0.7356311413454272,\n",
       "              0.8279969765684051,\n",
       "              0.895721844293273,\n",
       "              0.9334794658604182,\n",
       "              0.9472008062484254,\n",
       "              0.958745275888133,\n",
       "              0.9584126984126984,\n",
       "              0.9645099521289997,\n",
       "              0.962605190224238,\n",
       "              0.9754144620811289,\n",
       "              0.9761300075585789,\n",
       "              0.9797984378936759,\n",
       "              0.9808667170571931,\n",
       "              0.9822927689594357,\n",
       "              0.9822877299067776,\n",
       "              0.9824640967498113]})"
      ]
     },
     "execution_count": 25,
     "metadata": {},
     "output_type": "execute_result"
    }
   ],
   "source": [
    "model_history,model_true_y,model_pred_y=history,true_y,pred_y\n",
    "model_history"
   ]
  },
  {
   "cell_type": "code",
   "execution_count": 26,
   "id": "0aa3769f",
   "metadata": {},
   "outputs": [
    {
     "data": {
      "text/plain": [
       "<All keys matched successfully>"
      ]
     },
     "execution_count": 26,
     "metadata": {},
     "output_type": "execute_result"
    }
   ],
   "source": [
    "model.load_state_dict(torch.load(\"/home/fateplsf/hw/multi_class/hw1/model/job_1_model.bin\"))"
   ]
  },
  {
   "cell_type": "code",
   "execution_count": 27,
   "id": "0e11efa2",
   "metadata": {},
   "outputs": [],
   "source": [
    "test_dataset = ImageDataset(test_df,augment=data_transforms[\"valid\"])\n",
    "test_loader = DataLoader(test_dataset, batch_size=64, \n",
    "                          num_workers=8, shuffle=False, pin_memory=True)"
   ]
  },
  {
   "cell_type": "code",
   "execution_count": 28,
   "id": "71d3ce0c",
   "metadata": {},
   "outputs": [
    {
     "name": "stdout",
     "output_type": "stream",
     "text": [
      "AUC = 0.9825, F1 = 0.6454, Precision = 0.6639, Recall = 0.6511\n"
     ]
    }
   ],
   "source": [
    "auc, f1, precision, recall = get_score(model, valid_loader, device=CONFIG['device'])\n",
    "print(f\"AUC = {auc:.4f}, F1 = {f1:.4f}, Precision = {precision:.4f}, Recall = {recall:.4f}\")"
   ]
  },
  {
   "cell_type": "code",
   "execution_count": 29,
   "id": "9c06b398",
   "metadata": {},
   "outputs": [
    {
     "name": "stdout",
     "output_type": "stream",
     "text": [
      "AUC = 0.9865, F1 = 0.7162, Precision = 0.7351, Recall = 0.7222\n"
     ]
    }
   ],
   "source": [
    "auc, f1, precision, recall = get_score(model, test_loader, device=CONFIG['device'])\n",
    "print(f\"AUC = {auc:.4f}, F1 = {f1:.4f}, Precision = {precision:.4f}, Recall = {recall:.4f}\")"
   ]
  },
  {
   "cell_type": "markdown",
   "id": "093e89f9",
   "metadata": {},
   "source": [
    "# ChannelAdaptiveResNet"
   ]
  },
  {
   "cell_type": "code",
   "execution_count": 30,
   "id": "227b7c3c",
   "metadata": {},
   "outputs": [],
   "source": [
    "job=2\n",
    "is_amp = True\n",
    "scaler = amp.GradScaler(enabled = is_amp)\n",
    "\n",
    "model1 = model1.to(CONFIG['device'])"
   ]
  },
  {
   "cell_type": "code",
   "execution_count": 31,
   "id": "f49ddd57",
   "metadata": {},
   "outputs": [
    {
     "name": "stdout",
     "output_type": "stream",
     "text": [
      "[INFO] Using GPU: NVIDIA GeForce RTX 3090\n",
      "\n"
     ]
    },
    {
     "data": {
      "application/vnd.jupyter.widget-view+json": {
       "model_id": "c9d30941952748b5867cef2fd8a89367",
       "version_major": 2,
       "version_minor": 0
      },
      "text/plain": [
       "  0%|          | 0/494 [00:00<?, ?it/s]"
      ]
     },
     "metadata": {},
     "output_type": "display_data"
    },
    {
     "data": {
      "application/vnd.jupyter.widget-view+json": {
       "model_id": "ca0d524417db4d5c834265560a6c2bbe",
       "version_major": 2,
       "version_minor": 0
      },
      "text/plain": [
       "  0%|          | 0/4 [00:00<?, ?it/s]"
      ]
     },
     "metadata": {},
     "output_type": "display_data"
    },
    {
     "name": "stdout",
     "output_type": "stream",
     "text": [
      "4.019109725952148 0.7056890904509951\n",
      "Validation Auc Improved (0 ---> 0.7056890904509951)\n"
     ]
    },
    {
     "data": {
      "application/vnd.jupyter.widget-view+json": {
       "model_id": "bb74af0716944f88be8532143707d9e2",
       "version_major": 2,
       "version_minor": 0
      },
      "text/plain": [
       "  0%|          | 0/494 [00:00<?, ?it/s]"
      ]
     },
     "metadata": {},
     "output_type": "display_data"
    },
    {
     "data": {
      "application/vnd.jupyter.widget-view+json": {
       "model_id": "2986efc4ba9b4fc9961f0d0d6c0b2561",
       "version_major": 2,
       "version_minor": 0
      },
      "text/plain": [
       "  0%|          | 0/4 [00:00<?, ?it/s]"
      ]
     },
     "metadata": {},
     "output_type": "display_data"
    },
    {
     "name": "stdout",
     "output_type": "stream",
     "text": [
      "3.3978395652770996 0.8330108339632148\n",
      "Validation Auc Improved (0.7056890904509951 ---> 0.8330108339632148)\n"
     ]
    },
    {
     "data": {
      "application/vnd.jupyter.widget-view+json": {
       "model_id": "ad74451008ee4fb1a22af0d37bc148c6",
       "version_major": 2,
       "version_minor": 0
      },
      "text/plain": [
       "  0%|          | 0/494 [00:00<?, ?it/s]"
      ]
     },
     "metadata": {},
     "output_type": "display_data"
    },
    {
     "data": {
      "application/vnd.jupyter.widget-view+json": {
       "model_id": "4f669feec40f4bc49a52113cc50d6fac",
       "version_major": 2,
       "version_minor": 0
      },
      "text/plain": [
       "  0%|          | 0/4 [00:00<?, ?it/s]"
      ]
     },
     "metadata": {},
     "output_type": "display_data"
    },
    {
     "name": "stdout",
     "output_type": "stream",
     "text": [
      "4.58435894648234 0.7613504661123709\n"
     ]
    },
    {
     "data": {
      "application/vnd.jupyter.widget-view+json": {
       "model_id": "b015f45b67f1482b911e4a0a7ffcd434",
       "version_major": 2,
       "version_minor": 0
      },
      "text/plain": [
       "  0%|          | 0/494 [00:00<?, ?it/s]"
      ]
     },
     "metadata": {},
     "output_type": "display_data"
    },
    {
     "data": {
      "application/vnd.jupyter.widget-view+json": {
       "model_id": "4fa7863e43d6402b8cb752539bbc3990",
       "version_major": 2,
       "version_minor": 0
      },
      "text/plain": [
       "  0%|          | 0/4 [00:00<?, ?it/s]"
      ]
     },
     "metadata": {},
     "output_type": "display_data"
    },
    {
     "name": "stdout",
     "output_type": "stream",
     "text": [
      "5.715073432922363 0.6964625850340136\n"
     ]
    },
    {
     "data": {
      "application/vnd.jupyter.widget-view+json": {
       "model_id": "70552956d97140de9e1b289e79bebbb6",
       "version_major": 2,
       "version_minor": 0
      },
      "text/plain": [
       "  0%|          | 0/494 [00:00<?, ?it/s]"
      ]
     },
     "metadata": {},
     "output_type": "display_data"
    },
    {
     "data": {
      "application/vnd.jupyter.widget-view+json": {
       "model_id": "aba40b88e31348fb97cc2bdd788f1f2f",
       "version_major": 2,
       "version_minor": 0
      },
      "text/plain": [
       "  0%|          | 0/4 [00:00<?, ?it/s]"
      ]
     },
     "metadata": {},
     "output_type": "display_data"
    },
    {
     "name": "stdout",
     "output_type": "stream",
     "text": [
      "10.978410311804877 0.5436533131771227\n"
     ]
    },
    {
     "data": {
      "application/vnd.jupyter.widget-view+json": {
       "model_id": "f4087b4c552e45b2beb0148e55c91e0b",
       "version_major": 2,
       "version_minor": 0
      },
      "text/plain": [
       "  0%|          | 0/494 [00:00<?, ?it/s]"
      ]
     },
     "metadata": {},
     "output_type": "display_data"
    },
    {
     "data": {
      "application/vnd.jupyter.widget-view+json": {
       "model_id": "2da27e3cc4b847e3be4fd80edf2f6309",
       "version_major": 2,
       "version_minor": 0
      },
      "text/plain": [
       "  0%|          | 0/4 [00:00<?, ?it/s]"
      ]
     },
     "metadata": {},
     "output_type": "display_data"
    },
    {
     "name": "stdout",
     "output_type": "stream",
     "text": [
      "2.9253992043601142 0.8930713025951121\n",
      "Validation Auc Improved (0.8330108339632148 ---> 0.8930713025951121)\n"
     ]
    },
    {
     "data": {
      "application/vnd.jupyter.widget-view+json": {
       "model_id": "fbe904f4e9e04b3b89e902f837a5d274",
       "version_major": 2,
       "version_minor": 0
      },
      "text/plain": [
       "  0%|          | 0/494 [00:00<?, ?it/s]"
      ]
     },
     "metadata": {},
     "output_type": "display_data"
    },
    {
     "data": {
      "application/vnd.jupyter.widget-view+json": {
       "model_id": "076a4fd9c43b4b3582549ee8091af09d",
       "version_major": 2,
       "version_minor": 0
      },
      "text/plain": [
       "  0%|          | 0/4 [00:00<?, ?it/s]"
      ]
     },
     "metadata": {},
     "output_type": "display_data"
    },
    {
     "name": "stdout",
     "output_type": "stream",
     "text": [
      "2.404698593351576 0.9289191232048375\n",
      "Validation Auc Improved (0.8930713025951121 ---> 0.9289191232048375)\n"
     ]
    },
    {
     "data": {
      "application/vnd.jupyter.widget-view+json": {
       "model_id": "fb9d675f6c8a40f8b38f3db2b940fc55",
       "version_major": 2,
       "version_minor": 0
      },
      "text/plain": [
       "  0%|          | 0/494 [00:00<?, ?it/s]"
      ]
     },
     "metadata": {},
     "output_type": "display_data"
    },
    {
     "data": {
      "application/vnd.jupyter.widget-view+json": {
       "model_id": "f478045088374d3dacd07da6fe4330b7",
       "version_major": 2,
       "version_minor": 0
      },
      "text/plain": [
       "  0%|          | 0/4 [00:00<?, ?it/s]"
      ]
     },
     "metadata": {},
     "output_type": "display_data"
    },
    {
     "name": "stdout",
     "output_type": "stream",
     "text": [
      "3.19305229610867 0.8808264046359287\n"
     ]
    },
    {
     "data": {
      "application/vnd.jupyter.widget-view+json": {
       "model_id": "e18e4ebe004e419d93bcc4f1b103c632",
       "version_major": 2,
       "version_minor": 0
      },
      "text/plain": [
       "  0%|          | 0/494 [00:00<?, ?it/s]"
      ]
     },
     "metadata": {},
     "output_type": "display_data"
    },
    {
     "data": {
      "application/vnd.jupyter.widget-view+json": {
       "model_id": "223257bea3f94ac39eb275167bf1ba37",
       "version_major": 2,
       "version_minor": 0
      },
      "text/plain": [
       "  0%|          | 0/4 [00:00<?, ?it/s]"
      ]
     },
     "metadata": {},
     "output_type": "display_data"
    },
    {
     "name": "stdout",
     "output_type": "stream",
     "text": [
      "3.684644089804755 0.8133282942806752\n"
     ]
    },
    {
     "data": {
      "application/vnd.jupyter.widget-view+json": {
       "model_id": "dffa31533c39459e9483bc44d3df83ee",
       "version_major": 2,
       "version_minor": 0
      },
      "text/plain": [
       "  0%|          | 0/494 [00:00<?, ?it/s]"
      ]
     },
     "metadata": {},
     "output_type": "display_data"
    },
    {
     "data": {
      "application/vnd.jupyter.widget-view+json": {
       "model_id": "ecb9e83769c540269fc22ff27044243a",
       "version_major": 2,
       "version_minor": 0
      },
      "text/plain": [
       "  0%|          | 0/4 [00:00<?, ?it/s]"
      ]
     },
     "metadata": {},
     "output_type": "display_data"
    },
    {
     "name": "stdout",
     "output_type": "stream",
     "text": [
      "3.4530734475453695 0.8854421768707483\n"
     ]
    },
    {
     "data": {
      "application/vnd.jupyter.widget-view+json": {
       "model_id": "91bfe2b7696f47e0b7369193ca3c5e0c",
       "version_major": 2,
       "version_minor": 0
      },
      "text/plain": [
       "  0%|          | 0/494 [00:00<?, ?it/s]"
      ]
     },
     "metadata": {},
     "output_type": "display_data"
    },
    {
     "data": {
      "application/vnd.jupyter.widget-view+json": {
       "model_id": "c471e5b642694225ba8aeb93b0801739",
       "version_major": 2,
       "version_minor": 0
      },
      "text/plain": [
       "  0%|          | 0/4 [00:00<?, ?it/s]"
      ]
     },
     "metadata": {},
     "output_type": "display_data"
    },
    {
     "name": "stdout",
     "output_type": "stream",
     "text": [
      "1.3550343669785394 0.9755908289241624\n",
      "Validation Auc Improved (0.9289191232048375 ---> 0.9755908289241624)\n"
     ]
    },
    {
     "data": {
      "application/vnd.jupyter.widget-view+json": {
       "model_id": "cbd5389256034b89809071e938380f67",
       "version_major": 2,
       "version_minor": 0
      },
      "text/plain": [
       "  0%|          | 0/494 [00:00<?, ?it/s]"
      ]
     },
     "metadata": {},
     "output_type": "display_data"
    },
    {
     "data": {
      "application/vnd.jupyter.widget-view+json": {
       "model_id": "8927ce4218c449b5987fc743bcdce768",
       "version_major": 2,
       "version_minor": 0
      },
      "text/plain": [
       "  0%|          | 0/4 [00:00<?, ?it/s]"
      ]
     },
     "metadata": {},
     "output_type": "display_data"
    },
    {
     "name": "stdout",
     "output_type": "stream",
     "text": [
      "1.6459865066740247 0.9663945578231292\n"
     ]
    },
    {
     "data": {
      "application/vnd.jupyter.widget-view+json": {
       "model_id": "b0a48cfcc0b54eabb1657c8320c423a7",
       "version_major": 2,
       "version_minor": 0
      },
      "text/plain": [
       "  0%|          | 0/494 [00:00<?, ?it/s]"
      ]
     },
     "metadata": {},
     "output_type": "display_data"
    },
    {
     "data": {
      "application/vnd.jupyter.widget-view+json": {
       "model_id": "a7391ffe077f4ac18524a6e9429e5d46",
       "version_major": 2,
       "version_minor": 0
      },
      "text/plain": [
       "  0%|          | 0/4 [00:00<?, ?it/s]"
      ]
     },
     "metadata": {},
     "output_type": "display_data"
    },
    {
     "name": "stdout",
     "output_type": "stream",
     "text": [
      "1.3383305252922906 0.9790677752582515\n",
      "Validation Auc Improved (0.9755908289241624 ---> 0.9790677752582515)\n"
     ]
    },
    {
     "data": {
      "application/vnd.jupyter.widget-view+json": {
       "model_id": "cb4a7a9304d141cf80d0aeef6ed19363",
       "version_major": 2,
       "version_minor": 0
      },
      "text/plain": [
       "  0%|          | 0/494 [00:00<?, ?it/s]"
      ]
     },
     "metadata": {},
     "output_type": "display_data"
    },
    {
     "data": {
      "application/vnd.jupyter.widget-view+json": {
       "model_id": "15f57e5e892b4c3b9510dbbd3cfc7572",
       "version_major": 2,
       "version_minor": 0
      },
      "text/plain": [
       "  0%|          | 0/4 [00:00<?, ?it/s]"
      ]
     },
     "metadata": {},
     "output_type": "display_data"
    },
    {
     "name": "stdout",
     "output_type": "stream",
     "text": [
      "1.0949731421470643 0.9840513983371127\n",
      "Validation Auc Improved (0.9790677752582515 ---> 0.9840513983371127)\n"
     ]
    },
    {
     "data": {
      "application/vnd.jupyter.widget-view+json": {
       "model_id": "578281cef2e04458b3459322dec6955c",
       "version_major": 2,
       "version_minor": 0
      },
      "text/plain": [
       "  0%|          | 0/494 [00:00<?, ?it/s]"
      ]
     },
     "metadata": {},
     "output_type": "display_data"
    },
    {
     "data": {
      "application/vnd.jupyter.widget-view+json": {
       "model_id": "de1275fd044848b39eee4bb6512b2eb4",
       "version_major": 2,
       "version_minor": 0
      },
      "text/plain": [
       "  0%|          | 0/4 [00:00<?, ?it/s]"
      ]
     },
     "metadata": {},
     "output_type": "display_data"
    },
    {
     "name": "stdout",
     "output_type": "stream",
     "text": [
      "1.057738229698605 0.9846359284454522\n",
      "Validation Auc Improved (0.9840513983371127 ---> 0.9846359284454522)\n"
     ]
    },
    {
     "data": {
      "application/vnd.jupyter.widget-view+json": {
       "model_id": "d6fb7f8950d444cba011d1e330765471",
       "version_major": 2,
       "version_minor": 0
      },
      "text/plain": [
       "  0%|          | 0/494 [00:00<?, ?it/s]"
      ]
     },
     "metadata": {},
     "output_type": "display_data"
    },
    {
     "data": {
      "application/vnd.jupyter.widget-view+json": {
       "model_id": "a2841247fdb949c2a8487a107a9569f1",
       "version_major": 2,
       "version_minor": 0
      },
      "text/plain": [
       "  0%|          | 0/4 [00:00<?, ?it/s]"
      ]
     },
     "metadata": {},
     "output_type": "display_data"
    },
    {
     "name": "stdout",
     "output_type": "stream",
     "text": [
      "1.04475076701906 0.9851095993953136\n",
      "Validation Auc Improved (0.9846359284454522 ---> 0.9851095993953136)\n",
      "Training complete in 0h 25m 14s\n"
     ]
    }
   ],
   "source": [
    "\n",
    "optimizer = optim.AdamW(model1.parameters(), lr=1.5e-3)\n",
    "num_train_steps = int(len(train_loader) * 16)\n",
    "num_warmup_steps = int(num_train_steps / 10)\n",
    "scheduler = get_cosine_schedule_with_warmup(optimizer, num_warmup_steps=num_warmup_steps, num_training_steps=num_train_steps)\n",
    "\n",
    "history,true_y,pred_y= run_training(model1, optimizer, scheduler,train_loader,valid_loader,device=CONFIG['device'],num_epochs=16)"
   ]
  },
  {
   "cell_type": "code",
   "execution_count": 32,
   "id": "75cb0c85",
   "metadata": {},
   "outputs": [
    {
     "data": {
      "text/plain": [
       "<All keys matched successfully>"
      ]
     },
     "execution_count": 32,
     "metadata": {},
     "output_type": "execute_result"
    }
   ],
   "source": [
    "model1.load_state_dict(torch.load(\"/home/fateplsf/hw/multi_class/hw1/model/job_2_model.bin\"))"
   ]
  },
  {
   "cell_type": "code",
   "execution_count": 33,
   "id": "865acc08",
   "metadata": {},
   "outputs": [
    {
     "name": "stdout",
     "output_type": "stream",
     "text": [
      "AUC = 0.9851, F1 = 0.6519, Precision = 0.6633, Recall = 0.6578\n"
     ]
    }
   ],
   "source": [
    "auc, f1, precision, recall = get_score(model1, valid_loader, device=CONFIG['device'])\n",
    "print(f\"AUC = {auc:.4f}, F1 = {f1:.4f}, Precision = {precision:.4f}, Recall = {recall:.4f}\")"
   ]
  },
  {
   "cell_type": "code",
   "execution_count": 34,
   "id": "c45faea3",
   "metadata": {},
   "outputs": [
    {
     "name": "stdout",
     "output_type": "stream",
     "text": [
      "AUC = 0.9859, F1 = 0.7228, Precision = 0.7353, Recall = 0.7289\n"
     ]
    }
   ],
   "source": [
    "auc, f1, precision, recall = get_score(model1, test_loader, device=CONFIG['device'])\n",
    "print(f\"AUC = {auc:.4f}, F1 = {f1:.4f}, Precision = {precision:.4f}, Recall = {recall:.4f}\")"
   ]
  },
  {
   "cell_type": "code",
   "execution_count": 35,
   "id": "89fcbdf6",
   "metadata": {},
   "outputs": [],
   "source": [
    "ds_all = ImageDataset_c(test_df, augment=data_transforms[\"valid\"], channel_select=[0, 1, 2])\n",
    "\n",
    "ds_b = ImageDataset_c(test_df, augment=data_transforms[\"valid\"], channel_select=[0])\n",
    "ds_g = ImageDataset_c(test_df, augment=data_transforms[\"valid\"], channel_select=[1])\n",
    "ds_r = ImageDataset_c(test_df, augment=data_transforms[\"valid\"], channel_select=[2])\n",
    "\n",
    "ds_bg = ImageDataset_c(test_df, augment=data_transforms[\"valid\"], channel_select=[0,1])\n",
    "ds_rg = ImageDataset_c(test_df, augment=data_transforms[\"valid\"], channel_select=[1,2])\n",
    "ds_br = ImageDataset_c(test_df, augment=data_transforms[\"valid\"], channel_select=[0,2])"
   ]
  },
  {
   "cell_type": "code",
   "execution_count": 36,
   "id": "b553698b",
   "metadata": {},
   "outputs": [],
   "source": [
    "c_list=[ds_all,ds_b,ds_g,ds_r,ds_bg,ds_rg,ds_br]\n",
    "c_names = [\"channel_all\", \"channel_b\", \"channel_g\", \"channel_r\", \"channel_bg\", \"channel_rg\", \"channel_br\"]"
   ]
  },
  {
   "cell_type": "code",
   "execution_count": null,
   "id": "095247e4",
   "metadata": {},
   "outputs": [],
   "source": []
  },
  {
   "cell_type": "code",
   "execution_count": 37,
   "id": "bba061fc",
   "metadata": {},
   "outputs": [
    {
     "name": "stdout",
     "output_type": "stream",
     "text": [
      "channel_all:\n",
      "AUC = 0.9859, F1 = 0.7228, Precision = 0.7353, Recall = 0.7289\n",
      "channel_b:\n",
      "AUC = 0.5362, F1 = 0.0047, Precision = 0.0050, Recall = 0.0267\n",
      "channel_g:\n",
      "AUC = 0.5385, F1 = 0.0017, Precision = 0.0009, Recall = 0.0200\n",
      "channel_r:\n",
      "AUC = 0.5359, F1 = 0.0017, Precision = 0.0009, Recall = 0.0222\n",
      "channel_bg:\n",
      "AUC = 0.6083, F1 = 0.0068, Precision = 0.0059, Recall = 0.0267\n",
      "channel_rg:\n",
      "AUC = 0.5838, F1 = 0.0008, Precision = 0.0004, Recall = 0.0200\n",
      "channel_br:\n",
      "AUC = 0.6073, F1 = 0.0116, Precision = 0.0109, Recall = 0.0311\n"
     ]
    }
   ],
   "source": [
    "for i in range(len(c_list)):\n",
    "    ds=c_list[i]\n",
    "    ds_name=c_names[i]\n",
    "    \n",
    "    test_loader_ = DataLoader(ds, batch_size=64, \n",
    "                              num_workers=8, shuffle=False, pin_memory=True)\n",
    "    auc, f1, precision, recall = get_score(model1, test_loader_, device=CONFIG['device'])\n",
    "    print(f\"{ds_name}:\")\n",
    "    print(f\"AUC = {auc:.4f}, F1 = {f1:.4f}, Precision = {precision:.4f}, Recall = {recall:.4f}\")"
   ]
  },
  {
   "cell_type": "markdown",
   "id": "30404817",
   "metadata": {},
   "source": [
    "# ChannelAdaptiveResNet + Data augmentation using random channels"
   ]
  },
  {
   "cell_type": "code",
   "execution_count": 38,
   "id": "2320bdf1",
   "metadata": {},
   "outputs": [],
   "source": [
    "class RandomChannelSelect(A.ImageOnlyTransform):\n",
    "    def __init__(self, min_channels=1, max_channels=3, always_apply=False, p=0.5):\n",
    "        super().__init__(always_apply, p)\n",
    "        self.min_channels = min_channels\n",
    "        self.max_channels = max_channels\n",
    "\n",
    "    def apply(self, img, **params):\n",
    "        # 隨機保留通道數\n",
    "        num_channels_to_keep = random.randint(self.min_channels, self.max_channels)\n",
    "        # 隨機選通道（0=B, 1=G, 2=R）\n",
    "        selected_channels = sorted(random.sample([0, 1, 2], num_channels_to_keep))\n",
    "        img = img[:, :, selected_channels]\n",
    "\n",
    "        # 若不足3通道，自動補 0 通道至3維（避免錯誤）\n",
    "        while img.shape[2] < 3:\n",
    "            zero_channel = np.zeros_like(img[:, :, 0:1])\n",
    "            img = np.concatenate((img, zero_channel), axis=2)\n",
    "        return img"
   ]
  },
  {
   "cell_type": "code",
   "execution_count": 39,
   "id": "3ce6b9cd",
   "metadata": {},
   "outputs": [],
   "source": [
    "data_transforms_c = {\n",
    "    \"train\": A.Compose([\n",
    "        A.Resize(384, 384),\n",
    "        A.HorizontalFlip(p=0.5),\n",
    "        A.VerticalFlip(p=0.5),\n",
    "        A.ShiftScaleRotate(shift_limit=0.1, scale_limit=0.1, rotate_limit=30, p=0.5),\n",
    "        A.HueSaturationValue(hue_shift_limit=0.1, sat_shift_limit=0.1, val_shift_limit=0.1, p=0.5),\n",
    "        A.RandomBrightnessContrast(brightness_limit=(-0.1,0.1), contrast_limit=(-0.1, 0.1), p=0.5),\n",
    "\n",
    "        RandomChannelSelect(min_channels=1, max_channels=3, p=0.5),  \n",
    "\n",
    "        ToTensorV2()\n",
    "    ], p=1.),\n",
    "\n",
    "    \"valid\": A.Compose([\n",
    "        A.Resize(384, 384),\n",
    "        ToTensorV2()\n",
    "    ], p=1.)\n",
    "}"
   ]
  },
  {
   "cell_type": "code",
   "execution_count": 40,
   "id": "8e17aa4d",
   "metadata": {},
   "outputs": [],
   "source": [
    "job=3\n",
    "is_amp = True\n",
    "scaler = amp.GradScaler(enabled = is_amp)\n",
    "model2 = ChannelAdaptiveResNet(max_in_channels=6, out_classes=50)\n",
    "model2 = model2.to(CONFIG['device'])"
   ]
  },
  {
   "cell_type": "code",
   "execution_count": 41,
   "id": "0a4efdea",
   "metadata": {},
   "outputs": [],
   "source": [
    "train_dataset_c = ImageDataset(train_df,augment=data_transforms_c[\"train\"])\n",
    "\n",
    "train_loader_c = DataLoader(train_dataset_c, batch_size=128, \n",
    "                          num_workers=8, shuffle=True, pin_memory=True, drop_last=True)"
   ]
  },
  {
   "cell_type": "code",
   "execution_count": 42,
   "id": "b035d8e7",
   "metadata": {},
   "outputs": [
    {
     "name": "stdout",
     "output_type": "stream",
     "text": [
      "[INFO] Using GPU: NVIDIA GeForce RTX 3090\n",
      "\n"
     ]
    },
    {
     "data": {
      "application/vnd.jupyter.widget-view+json": {
       "model_id": "549b2c74b09f47f7afcc078c7e47570d",
       "version_major": 2,
       "version_minor": 0
      },
      "text/plain": [
       "  0%|          | 0/494 [00:00<?, ?it/s]"
      ]
     },
     "metadata": {},
     "output_type": "display_data"
    },
    {
     "data": {
      "application/vnd.jupyter.widget-view+json": {
       "model_id": "d13f4ce1d22a4b1aa9587d38568fb85a",
       "version_major": 2,
       "version_minor": 0
      },
      "text/plain": [
       "  0%|          | 0/4 [00:00<?, ?it/s]"
      ]
     },
     "metadata": {},
     "output_type": "display_data"
    },
    {
     "name": "stdout",
     "output_type": "stream",
     "text": [
      "3.8549001110924617 0.7223230032753842\n",
      "Validation Auc Improved (0 ---> 0.7223230032753842)\n"
     ]
    },
    {
     "data": {
      "application/vnd.jupyter.widget-view+json": {
       "model_id": "470918637b4445dda4a1901c82ff7f5d",
       "version_major": 2,
       "version_minor": 0
      },
      "text/plain": [
       "  0%|          | 0/494 [00:00<?, ?it/s]"
      ]
     },
     "metadata": {},
     "output_type": "display_data"
    },
    {
     "data": {
      "application/vnd.jupyter.widget-view+json": {
       "model_id": "fe1c5beaabec4ae59ebc7dbb8560e414",
       "version_major": 2,
       "version_minor": 0
      },
      "text/plain": [
       "  0%|          | 0/4 [00:00<?, ?it/s]"
      ]
     },
     "metadata": {},
     "output_type": "display_data"
    },
    {
     "name": "stdout",
     "output_type": "stream",
     "text": [
      "3.3115657477908664 0.8285109599395314\n",
      "Validation Auc Improved (0.7223230032753842 ---> 0.8285109599395314)\n"
     ]
    },
    {
     "data": {
      "application/vnd.jupyter.widget-view+json": {
       "model_id": "5039c307de1046088aeaf32e70a9575f",
       "version_major": 2,
       "version_minor": 0
      },
      "text/plain": [
       "  0%|          | 0/494 [00:00<?, ?it/s]"
      ]
     },
     "metadata": {},
     "output_type": "display_data"
    },
    {
     "data": {
      "application/vnd.jupyter.widget-view+json": {
       "model_id": "0d22917ff7e34ed5a39c940c46a87641",
       "version_major": 2,
       "version_minor": 0
      },
      "text/plain": [
       "  0%|          | 0/4 [00:00<?, ?it/s]"
      ]
     },
     "metadata": {},
     "output_type": "display_data"
    },
    {
     "name": "stdout",
     "output_type": "stream",
     "text": [
      "3.0364368062549167 0.8636381960191484\n",
      "Validation Auc Improved (0.8285109599395314 ---> 0.8636381960191484)\n"
     ]
    },
    {
     "data": {
      "application/vnd.jupyter.widget-view+json": {
       "model_id": "d336d2b89e8e4da9b9c335f44e977884",
       "version_major": 2,
       "version_minor": 0
      },
      "text/plain": [
       "  0%|          | 0/494 [00:00<?, ?it/s]"
      ]
     },
     "metadata": {},
     "output_type": "display_data"
    },
    {
     "data": {
      "application/vnd.jupyter.widget-view+json": {
       "model_id": "ee259499fba04462b59ab2a732134708",
       "version_major": 2,
       "version_minor": 0
      },
      "text/plain": [
       "  0%|          | 0/4 [00:00<?, ?it/s]"
      ]
     },
     "metadata": {},
     "output_type": "display_data"
    },
    {
     "name": "stdout",
     "output_type": "stream",
     "text": [
      "3.3799837504492865 0.8434366339128243\n"
     ]
    },
    {
     "data": {
      "application/vnd.jupyter.widget-view+json": {
       "model_id": "92098dfe3f354ab89f4e0d1d523a9cde",
       "version_major": 2,
       "version_minor": 0
      },
      "text/plain": [
       "  0%|          | 0/494 [00:00<?, ?it/s]"
      ]
     },
     "metadata": {},
     "output_type": "display_data"
    },
    {
     "data": {
      "application/vnd.jupyter.widget-view+json": {
       "model_id": "1df74241a72e4157a8b47be3d85e8abc",
       "version_major": 2,
       "version_minor": 0
      },
      "text/plain": [
       "  0%|          | 0/4 [00:00<?, ?it/s]"
      ]
     },
     "metadata": {},
     "output_type": "display_data"
    },
    {
     "name": "stdout",
     "output_type": "stream",
     "text": [
      "2.9356593730714584 0.8918820861678004\n",
      "Validation Auc Improved (0.8636381960191484 ---> 0.8918820861678004)\n"
     ]
    },
    {
     "data": {
      "application/vnd.jupyter.widget-view+json": {
       "model_id": "ce8cc266a1ce484d8399d58772ed0047",
       "version_major": 2,
       "version_minor": 0
      },
      "text/plain": [
       "  0%|          | 0/494 [00:00<?, ?it/s]"
      ]
     },
     "metadata": {},
     "output_type": "display_data"
    },
    {
     "data": {
      "application/vnd.jupyter.widget-view+json": {
       "model_id": "c1e3473625064198a3633b6ad865bc86",
       "version_major": 2,
       "version_minor": 0
      },
      "text/plain": [
       "  0%|          | 0/4 [00:00<?, ?it/s]"
      ]
     },
     "metadata": {},
     "output_type": "display_data"
    },
    {
     "name": "stdout",
     "output_type": "stream",
     "text": [
      "3.209692390229967 0.8744570420760897\n"
     ]
    },
    {
     "data": {
      "application/vnd.jupyter.widget-view+json": {
       "model_id": "616afc89bc40481ba77f157bf871c110",
       "version_major": 2,
       "version_minor": 0
      },
      "text/plain": [
       "  0%|          | 0/494 [00:00<?, ?it/s]"
      ]
     },
     "metadata": {},
     "output_type": "display_data"
    },
    {
     "data": {
      "application/vnd.jupyter.widget-view+json": {
       "model_id": "e0328c7c785949b594eb16ddec55e373",
       "version_major": 2,
       "version_minor": 0
      },
      "text/plain": [
       "  0%|          | 0/4 [00:00<?, ?it/s]"
      ]
     },
     "metadata": {},
     "output_type": "display_data"
    },
    {
     "name": "stdout",
     "output_type": "stream",
     "text": [
      "1.8367080550723607 0.9563063744016127\n",
      "Validation Auc Improved (0.8918820861678004 ---> 0.9563063744016127)\n"
     ]
    },
    {
     "data": {
      "application/vnd.jupyter.widget-view+json": {
       "model_id": "621fe8999f4e4dc091ea8a31df49c5fd",
       "version_major": 2,
       "version_minor": 0
      },
      "text/plain": [
       "  0%|          | 0/494 [00:00<?, ?it/s]"
      ]
     },
     "metadata": {},
     "output_type": "display_data"
    },
    {
     "data": {
      "application/vnd.jupyter.widget-view+json": {
       "model_id": "bb5b692923e14ba3b1dd45b47f522022",
       "version_major": 2,
       "version_minor": 0
      },
      "text/plain": [
       "  0%|          | 0/4 [00:00<?, ?it/s]"
      ]
     },
     "metadata": {},
     "output_type": "display_data"
    },
    {
     "name": "stdout",
     "output_type": "stream",
     "text": [
      "1.7951275142033896 0.9606298815822626\n",
      "Validation Auc Improved (0.9563063744016127 ---> 0.9606298815822626)\n"
     ]
    },
    {
     "data": {
      "application/vnd.jupyter.widget-view+json": {
       "model_id": "4e216c7550624c1cb4ec1770e51952db",
       "version_major": 2,
       "version_minor": 0
      },
      "text/plain": [
       "  0%|          | 0/494 [00:00<?, ?it/s]"
      ]
     },
     "metadata": {},
     "output_type": "display_data"
    },
    {
     "data": {
      "application/vnd.jupyter.widget-view+json": {
       "model_id": "0bd4325b47324f6bbb088d4de43c9303",
       "version_major": 2,
       "version_minor": 0
      },
      "text/plain": [
       "  0%|          | 0/4 [00:00<?, ?it/s]"
      ]
     },
     "metadata": {},
     "output_type": "display_data"
    },
    {
     "name": "stdout",
     "output_type": "stream",
     "text": [
      "1.8551243204540677 0.9582161753590325\n"
     ]
    },
    {
     "data": {
      "application/vnd.jupyter.widget-view+json": {
       "model_id": "95d56eba08474aeeaa42d54e19184964",
       "version_major": 2,
       "version_minor": 0
      },
      "text/plain": [
       "  0%|          | 0/494 [00:00<?, ?it/s]"
      ]
     },
     "metadata": {},
     "output_type": "display_data"
    },
    {
     "data": {
      "application/vnd.jupyter.widget-view+json": {
       "model_id": "cd472c97f8f447c7a43189f61d223a02",
       "version_major": 2,
       "version_minor": 0
      },
      "text/plain": [
       "  0%|          | 0/4 [00:00<?, ?it/s]"
      ]
     },
     "metadata": {},
     "output_type": "display_data"
    },
    {
     "name": "stdout",
     "output_type": "stream",
     "text": [
      "1.7256792947981092 0.9662030738221213\n",
      "Validation Auc Improved (0.9606298815822626 ---> 0.9662030738221213)\n"
     ]
    },
    {
     "data": {
      "application/vnd.jupyter.widget-view+json": {
       "model_id": "183581052e52493e906401ca657178e8",
       "version_major": 2,
       "version_minor": 0
      },
      "text/plain": [
       "  0%|          | 0/494 [00:00<?, ?it/s]"
      ]
     },
     "metadata": {},
     "output_type": "display_data"
    },
    {
     "data": {
      "application/vnd.jupyter.widget-view+json": {
       "model_id": "d4d439cff18449ec96a48de4b66178d0",
       "version_major": 2,
       "version_minor": 0
      },
      "text/plain": [
       "  0%|          | 0/4 [00:00<?, ?it/s]"
      ]
     },
     "metadata": {},
     "output_type": "display_data"
    },
    {
     "name": "stdout",
     "output_type": "stream",
     "text": [
      "1.5728326278262668 0.9706273620559336\n",
      "Validation Auc Improved (0.9662030738221213 ---> 0.9706273620559336)\n"
     ]
    },
    {
     "data": {
      "application/vnd.jupyter.widget-view+json": {
       "model_id": "1231d00f6d9c44fd820582fdefd71bb4",
       "version_major": 2,
       "version_minor": 0
      },
      "text/plain": [
       "  0%|          | 0/494 [00:00<?, ?it/s]"
      ]
     },
     "metadata": {},
     "output_type": "display_data"
    },
    {
     "data": {
      "application/vnd.jupyter.widget-view+json": {
       "model_id": "ff6943fdfe77425e8655f8b5185961e0",
       "version_major": 2,
       "version_minor": 0
      },
      "text/plain": [
       "  0%|          | 0/4 [00:00<?, ?it/s]"
      ]
     },
     "metadata": {},
     "output_type": "display_data"
    },
    {
     "name": "stdout",
     "output_type": "stream",
     "text": [
      "1.6066005169020758 0.9677702191987906\n"
     ]
    },
    {
     "data": {
      "application/vnd.jupyter.widget-view+json": {
       "model_id": "daf87b296a6b4098a855ae69c8bbe651",
       "version_major": 2,
       "version_minor": 0
      },
      "text/plain": [
       "  0%|          | 0/494 [00:00<?, ?it/s]"
      ]
     },
     "metadata": {},
     "output_type": "display_data"
    },
    {
     "data": {
      "application/vnd.jupyter.widget-view+json": {
       "model_id": "73c07237a3c8444abb94965bf30c9346",
       "version_major": 2,
       "version_minor": 0
      },
      "text/plain": [
       "  0%|          | 0/4 [00:00<?, ?it/s]"
      ]
     },
     "metadata": {},
     "output_type": "display_data"
    },
    {
     "name": "stdout",
     "output_type": "stream",
     "text": [
      "1.3123121031125387 0.9778886369362558\n",
      "Validation Auc Improved (0.9706273620559336 ---> 0.9778886369362558)\n"
     ]
    },
    {
     "data": {
      "application/vnd.jupyter.widget-view+json": {
       "model_id": "4195606e80b54a8c9147fa0c9e746eb4",
       "version_major": 2,
       "version_minor": 0
      },
      "text/plain": [
       "  0%|          | 0/494 [00:00<?, ?it/s]"
      ]
     },
     "metadata": {},
     "output_type": "display_data"
    },
    {
     "data": {
      "application/vnd.jupyter.widget-view+json": {
       "model_id": "a1ba2cfa2521412e965b061a65d51eb9",
       "version_major": 2,
       "version_minor": 0
      },
      "text/plain": [
       "  0%|          | 0/4 [00:00<?, ?it/s]"
      ]
     },
     "metadata": {},
     "output_type": "display_data"
    },
    {
     "name": "stdout",
     "output_type": "stream",
     "text": [
      "1.179629242155287 0.982721088435374\n",
      "Validation Auc Improved (0.9778886369362558 ---> 0.982721088435374)\n"
     ]
    },
    {
     "data": {
      "application/vnd.jupyter.widget-view+json": {
       "model_id": "5f33d3ccc7b9488bbb85f53510a6e981",
       "version_major": 2,
       "version_minor": 0
      },
      "text/plain": [
       "  0%|          | 0/494 [00:00<?, ?it/s]"
      ]
     },
     "metadata": {},
     "output_type": "display_data"
    },
    {
     "data": {
      "application/vnd.jupyter.widget-view+json": {
       "model_id": "5993711068e746c58ffecfffa57302bb",
       "version_major": 2,
       "version_minor": 0
      },
      "text/plain": [
       "  0%|          | 0/4 [00:00<?, ?it/s]"
      ]
     },
     "metadata": {},
     "output_type": "display_data"
    },
    {
     "name": "stdout",
     "output_type": "stream",
     "text": [
      "1.1005727503034803 0.9839606953892668\n",
      "Validation Auc Improved (0.982721088435374 ---> 0.9839606953892668)\n"
     ]
    },
    {
     "data": {
      "application/vnd.jupyter.widget-view+json": {
       "model_id": "4afd5154c6104452860684af955de6e8",
       "version_major": 2,
       "version_minor": 0
      },
      "text/plain": [
       "  0%|          | 0/494 [00:00<?, ?it/s]"
      ]
     },
     "metadata": {},
     "output_type": "display_data"
    },
    {
     "data": {
      "application/vnd.jupyter.widget-view+json": {
       "model_id": "f88c450bd3254ef0bfdfb45e9c8c2209",
       "version_major": 2,
       "version_minor": 0
      },
      "text/plain": [
       "  0%|          | 0/4 [00:00<?, ?it/s]"
      ]
     },
     "metadata": {},
     "output_type": "display_data"
    },
    {
     "name": "stdout",
     "output_type": "stream",
     "text": [
      "1.1022373655107287 0.9837641723356011\n",
      "Training complete in 0h 25m 9s\n"
     ]
    }
   ],
   "source": [
    "\n",
    "optimizer = optim.AdamW(model2.parameters(), lr=1.5e-3)\n",
    "num_train_steps = int(len(train_loader) * 16)\n",
    "num_warmup_steps = int(num_train_steps / 10)\n",
    "scheduler = get_cosine_schedule_with_warmup(optimizer, num_warmup_steps=num_warmup_steps, num_training_steps=num_train_steps)\n",
    "\n",
    "history,true_y,pred_y= run_training(model2, optimizer, scheduler,train_loader_c,valid_loader,device=CONFIG['device'],num_epochs=16)"
   ]
  },
  {
   "cell_type": "code",
   "execution_count": 43,
   "id": "03cf59ac",
   "metadata": {},
   "outputs": [
    {
     "data": {
      "text/plain": [
       "<All keys matched successfully>"
      ]
     },
     "execution_count": 43,
     "metadata": {},
     "output_type": "execute_result"
    }
   ],
   "source": [
    "model2.load_state_dict(torch.load(\"/home/fateplsf/hw/multi_class/hw1/model/job_3_model.bin\"))"
   ]
  },
  {
   "cell_type": "code",
   "execution_count": 44,
   "id": "fb6ca08f",
   "metadata": {},
   "outputs": [
    {
     "name": "stdout",
     "output_type": "stream",
     "text": [
      "AUC = 0.9840, F1 = 0.6218, Precision = 0.6411, Recall = 0.6267\n"
     ]
    }
   ],
   "source": [
    "auc, f1, precision, recall = get_score(model2, valid_loader, device=CONFIG['device'])\n",
    "print(f\"AUC = {auc:.4f}, F1 = {f1:.4f}, Precision = {precision:.4f}, Recall = {recall:.4f}\")"
   ]
  },
  {
   "cell_type": "code",
   "execution_count": 45,
   "id": "e5a3cf28",
   "metadata": {},
   "outputs": [
    {
     "name": "stdout",
     "output_type": "stream",
     "text": [
      "channel_all:\n",
      "AUC = 0.9836, F1 = 0.7029, Precision = 0.7169, Recall = 0.7067\n",
      "channel_b:\n",
      "AUC = 0.9725, F1 = 0.5998, Precision = 0.6161, Recall = 0.6089\n",
      "channel_g:\n",
      "AUC = 0.9761, F1 = 0.6216, Precision = 0.6353, Recall = 0.6289\n",
      "channel_r:\n",
      "AUC = 0.9708, F1 = 0.5655, Precision = 0.5824, Recall = 0.5756\n",
      "channel_bg:\n",
      "AUC = 0.9801, F1 = 0.6608, Precision = 0.6795, Recall = 0.6644\n",
      "channel_rg:\n",
      "AUC = 0.9790, F1 = 0.6776, Precision = 0.6899, Recall = 0.6867\n",
      "channel_br:\n",
      "AUC = 0.9801, F1 = 0.6730, Precision = 0.6985, Recall = 0.6778\n"
     ]
    }
   ],
   "source": [
    "for i in range(len(c_list)):\n",
    "    ds=c_list[i]\n",
    "    ds_name=c_names[i]\n",
    "    \n",
    "    test_loader_ = DataLoader(ds, batch_size=64, \n",
    "                              num_workers=8, shuffle=False, pin_memory=True)\n",
    "    auc, f1, precision, recall = get_score(model2, test_loader_, device=CONFIG['device'])\n",
    "    print(f\"{ds_name}:\")\n",
    "    print(f\"AUC = {auc:.4f}, F1 = {f1:.4f}, Precision = {precision:.4f}, Recall = {recall:.4f}\")"
   ]
  },
  {
   "cell_type": "code",
   "execution_count": null,
   "id": "5a1daf98",
   "metadata": {},
   "outputs": [],
   "source": []
  }
 ],
 "metadata": {
  "kernelspec": {
   "display_name": "Python 3 (ipykernel)",
   "language": "python",
   "name": "python3"
  },
  "language_info": {
   "codemirror_mode": {
    "name": "ipython",
    "version": 3
   },
   "file_extension": ".py",
   "mimetype": "text/x-python",
   "name": "python",
   "nbconvert_exporter": "python",
   "pygments_lexer": "ipython3",
   "version": "3.8.15"
  }
 },
 "nbformat": 4,
 "nbformat_minor": 5
}
